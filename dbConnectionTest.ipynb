{
 "cells": [
  {
   "cell_type": "markdown",
   "id": "6107eff3",
   "metadata": {},
   "source": [
    "# Test"
   ]
  },
  {
   "cell_type": "code",
   "execution_count": 1,
   "id": "61e0a93e",
   "metadata": {},
   "outputs": [],
   "source": [
    "import pymysql\n",
    "import sqlalchemy"
   ]
  },
  {
   "cell_type": "code",
   "execution_count": 2,
   "id": "c3c93751",
   "metadata": {},
   "outputs": [
    {
     "data": {
      "text/plain": [
       "'1.4.36'"
      ]
     },
     "execution_count": 2,
     "metadata": {},
     "output_type": "execute_result"
    }
   ],
   "source": [
    "sqlalchemy.__version__"
   ]
  },
  {
   "cell_type": "code",
   "execution_count": 3,
   "id": "272e1f95",
   "metadata": {},
   "outputs": [
    {
     "data": {
      "text/plain": [
       "'1.0.2'"
      ]
     },
     "execution_count": 3,
     "metadata": {},
     "output_type": "execute_result"
    }
   ],
   "source": [
    "pymysql.__version__"
   ]
  },
  {
   "cell_type": "code",
   "execution_count": 8,
   "id": "618fe194",
   "metadata": {},
   "outputs": [],
   "source": [
    "connection_url = 'mysql+pymysql://####:########@#.##.###.###:####/solodb'"
   ]
  },
  {
   "cell_type": "code",
   "execution_count": 9,
   "id": "d6265384",
   "metadata": {},
   "outputs": [],
   "source": [
    "engine = sqlalchemy.create_engine(connection_url)"
   ]
  },
  {
   "cell_type": "code",
   "execution_count": 10,
   "id": "4433eab2",
   "metadata": {},
   "outputs": [],
   "source": [
    "query = sqlalchemy.text(\"SELECT * FROM user\")"
   ]
  },
  {
   "cell_type": "code",
   "execution_count": 11,
   "id": "a62af21b",
   "metadata": {},
   "outputs": [
    {
     "name": "stdout",
     "output_type": "stream",
     "text": [
      "success\n"
     ]
    }
   ],
   "source": [
    "try:\n",
    "    with engine.connect() as conn:\n",
    "        result = conn.execute(query)\n",
    "        result = result.fetchall()\n",
    "except Exception as e:\n",
    "    print('Error: {}'.format(str(e)))\n",
    "print('success')"
   ]
  },
  {
   "cell_type": "code",
   "execution_count": 12,
   "id": "451b9344",
   "metadata": {},
   "outputs": [
    {
     "data": {
      "text/plain": [
       "[(1, 'User1', datetime.datetime(2022, 6, 2, 2, 3, 57)),\n",
       " (2, 'User2', datetime.datetime(2022, 6, 2, 2, 46, 48)),\n",
       " (3, 'User3', datetime.datetime(2022, 6, 2, 2, 46, 53))]"
      ]
     },
     "execution_count": 12,
     "metadata": {},
     "output_type": "execute_result"
    }
   ],
   "source": [
    "result"
   ]
  },
  {
   "cell_type": "code",
   "execution_count": 13,
   "id": "f43e3a02",
   "metadata": {},
   "outputs": [
    {
     "data": {
      "text/plain": [
       "datetime.datetime(2022, 6, 2, 2, 3, 57)"
      ]
     },
     "execution_count": 13,
     "metadata": {},
     "output_type": "execute_result"
    }
   ],
   "source": [
    "result[0].registered_on"
   ]
  },
  {
   "cell_type": "code",
   "execution_count": null,
   "id": "995a384a",
   "metadata": {},
   "outputs": [],
   "source": []
  },
  {
   "cell_type": "code",
   "execution_count": null,
   "id": "c53cf461",
   "metadata": {},
   "outputs": [],
   "source": []
  },
  {
   "cell_type": "markdown",
   "id": "fabc5054",
   "metadata": {},
   "source": [
    "# Fn1. Create_Event"
   ]
  },
  {
   "cell_type": "code",
   "execution_count": 31,
   "id": "92670cee",
   "metadata": {},
   "outputs": [
    {
     "data": {
      "text/plain": [
       "'\\nuser_id:\\n    Integer\\n    User unique id\\n    \\ncar_id:\\n    Integer\\n    Car unique id\\n    \\npath_original:\\n    Varchar\\n    {created_on}-{user_id}-{car_id}-{1...6}\\n    ex) 2022-05-27-1-1-1_2022-05-27-1-1-2_...\\n'"
      ]
     },
     "execution_count": 31,
     "metadata": {},
     "output_type": "execute_result"
    }
   ],
   "source": [
    "\"\"\"\n",
    "user_id:\n",
    "    Integer\n",
    "    User unique id\n",
    "    \n",
    "car_id:\n",
    "    Integer\n",
    "    Car unique id\n",
    "    \n",
    "path_original:\n",
    "    Varchar\n",
    "    {created_on}-{user_id}-{car_id}-{1...6}\n",
    "    ex) 2022-05-27-1-1-1_2022-05-27-1-1-2_...\n",
    "\"\"\""
   ]
  },
  {
   "cell_type": "code",
   "execution_count": 11,
   "id": "48a5ef1a",
   "metadata": {},
   "outputs": [],
   "source": [
    "def create_event(user_id, car_id, path_original):\n",
    "    print(\"run:create_event()\")\n",
    "    query = sqlalchemy.text(\"INSERT INTO event (user_id, car_id, path_original) VALUES ({}, {}, {});\".format(user_id, car_id, \"\\'\" + path_original + \"\\'\"))\n",
    "    db = sqlalchemy.create_engine(connection_url)\n",
    "    try:\n",
    "        with db.connect() as conn:\n",
    "            conn.execute(query)\n",
    "    except Exception as e:\n",
    "        print('Error: {}'.format(str(e)))\n",
    "    print('Success:create_event()')"
   ]
  },
  {
   "cell_type": "code",
   "execution_count": 12,
   "id": "a41982d2",
   "metadata": {},
   "outputs": [],
   "source": [
    "user_id = 1\n",
    "car_id = 1\n",
    "path_original = \"2022-05-30-1-1-1_2022-05-30-1-1-2_2022-05-30-1-1-3_2022-05-30-1-1-4_2022-05-30-1-1-5_2022-05-30-1-1-6_\""
   ]
  },
  {
   "cell_type": "code",
   "execution_count": 13,
   "id": "6296f472",
   "metadata": {
    "scrolled": false
   },
   "outputs": [
    {
     "name": "stdout",
     "output_type": "stream",
     "text": [
      "run:create_event()\n",
      "Success:create_event()\n"
     ]
    }
   ],
   "source": [
    "create_event(user_id, car_id, path_original)"
   ]
  },
  {
   "cell_type": "code",
   "execution_count": 14,
   "id": "155ce125",
   "metadata": {},
   "outputs": [],
   "source": [
    "user_id = 2\n",
    "car_id = 2\n",
    "path_original = \"2022-05-30-2-2-1_2022-05-30-2-2-2_2022-05-30-2-2-3_2022-05-30-2-2-4_2022-05-30-2-2-5_2022-05-30-2-2-6_\""
   ]
  },
  {
   "cell_type": "code",
   "execution_count": 15,
   "id": "696aadfa",
   "metadata": {
    "scrolled": true
   },
   "outputs": [
    {
     "name": "stdout",
     "output_type": "stream",
     "text": [
      "run:create_event()\n",
      "Success:create_event()\n"
     ]
    }
   ],
   "source": [
    "create_event(user_id, car_id, path_original)"
   ]
  },
  {
   "cell_type": "code",
   "execution_count": 16,
   "id": "cfc30d53",
   "metadata": {},
   "outputs": [],
   "source": [
    "user_id = 3\n",
    "car_id = 3\n",
    "path_original = \"2022-05-31-3-3-1_2022-05-31-3-3-2_2022-05-31-3-3-3_2022-05-31-3-3-4_2022-05-31-3-3-5_2022-05-31-3-3-6_\""
   ]
  },
  {
   "cell_type": "code",
   "execution_count": 17,
   "id": "5da4e636",
   "metadata": {},
   "outputs": [
    {
     "name": "stdout",
     "output_type": "stream",
     "text": [
      "run:create_event()\n",
      "Success:create_event()\n"
     ]
    }
   ],
   "source": [
    "create_event(user_id, car_id, path_original)"
   ]
  },
  {
   "cell_type": "code",
   "execution_count": null,
   "id": "42fde7a6",
   "metadata": {},
   "outputs": [],
   "source": []
  },
  {
   "cell_type": "code",
   "execution_count": null,
   "id": "303ca355",
   "metadata": {},
   "outputs": [],
   "source": []
  },
  {
   "cell_type": "markdown",
   "id": "8ba68b71",
   "metadata": {},
   "source": [
    "# Fn2. Update_Event"
   ]
  },
  {
   "cell_type": "code",
   "execution_count": 53,
   "id": "5e810619",
   "metadata": {
    "scrolled": true
   },
   "outputs": [
    {
     "data": {
      "text/plain": [
       "'\\npath_original:\\n    Varchar\\n    {created_on}-{user_id}-{car_id}-{1...6}\\n    ex) 2022-05-27-1-1-1_2022-05-27-1-1-2_...\\n    \\nis_damaged:\\n    Boolean\\n    inference result of Global Damage Classifier\\n    \\nconf_score:\\n    Float\\n    confidence score of Global Damage Classifier\\n'"
      ]
     },
     "execution_count": 53,
     "metadata": {},
     "output_type": "execute_result"
    }
   ],
   "source": [
    "\"\"\"\n",
    "path_original:\n",
    "    Varchar\n",
    "    {created_on}-{user_id}-{car_id}-{1...6}\n",
    "    ex) 2022-05-27-1-1-1_2022-05-27-1-1-2_...\n",
    "    \n",
    "is_damaged:\n",
    "    Boolean\n",
    "    inference result of Global Damage Classifier\n",
    "    \n",
    "conf_score:\n",
    "    Float\n",
    "    confidence score of Global Damage Classifier\n",
    "\"\"\""
   ]
  },
  {
   "cell_type": "code",
   "execution_count": 18,
   "id": "52f40d03",
   "metadata": {},
   "outputs": [],
   "source": [
    "def select_event(path_original):\n",
    "    print(\"run:select_event()\")\n",
    "    query = sqlalchemy.text(\"SELECT * FROM event WHERE path_original={};\".format(\"\\'\" + path_original + \"\\'\"))\n",
    "    db = sqlalchemy.create_engine(connection_url)\n",
    "    try:\n",
    "        with db.connect() as conn:\n",
    "            result = conn.execute(query)\n",
    "            result = result.first()\n",
    "    except Exception as e:\n",
    "        print('Error: {}'.format(str(e)))\n",
    "    print('Success:select_event()')\n",
    "    return result"
   ]
  },
  {
   "cell_type": "code",
   "execution_count": 15,
   "id": "e2fea91a",
   "metadata": {},
   "outputs": [],
   "source": [
    "def update_event(path_original, is_damaged, conf_score=None):\n",
    "    event_id = select_event(path_original).id\n",
    "    if conf_score:\n",
    "        query = sqlalchemy.text(\"UPDATE event SET is_damaged_1={}, is_damaged_2={}, is_damaged_3={}, is_damaged_4={}, is_damaged_5={}, is_damaged_6={}, conf_score={} WHERE id={};\".format(is_damaged[0], is_damaged[1], is_damaged[2], is_damaged[3], is_damaged[4], is_damaged[5] , conf_score, event_id))\n",
    "    db = sqlalchemy.create_engine(connection_url)\n",
    "    try:\n",
    "        with db.connect() as conn:\n",
    "            conn.execute(query)\n",
    "    except Exception as e:\n",
    "        print('Error: {}'.format(str(e)))\n",
    "    print('Success')"
   ]
  },
  {
   "cell_type": "code",
   "execution_count": 14,
   "id": "81dc46a8",
   "metadata": {},
   "outputs": [],
   "source": [
    "path_original = \"2022-05-30-1-1-1_2022-05-30-1-1-2_2022-05-30-1-1-3_2022-05-30-1-1-4_2022-05-30-1-1-5_2022-05-30-1-1-6_\"\n",
    "is_damaged_1 = False\n",
    "is_damaged_2 = False\n",
    "is_damaged_3 = False\n",
    "is_damaged_4 = False\n",
    "is_damaged_5 = False\n",
    "is_damaged_6 = False\n",
    "conf_score = 0"
   ]
  },
  {
   "cell_type": "code",
   "execution_count": 21,
   "id": "69f876bd",
   "metadata": {},
   "outputs": [
    {
     "name": "stdout",
     "output_type": "stream",
     "text": [
      "run:update_event()\n",
      "run:select_event()\n",
      "Success:select_event()\n",
      "Success:update_event()\n"
     ]
    }
   ],
   "source": [
    "update_event(path_original, is_damaged)"
   ]
  },
  {
   "cell_type": "code",
   "execution_count": 22,
   "id": "55a05b84",
   "metadata": {},
   "outputs": [],
   "source": [
    "path_original = \"2022-05-30-2-2-1_2022-05-30-2-2-2_2022-05-30-2-2-3_2022-05-30-2-2-4_2022-05-30-2-2-5_2022-05-30-2-2-6_\"\n",
    "is_damaged_1 = False\n",
    "is_damaged_2 = False\n",
    "is_damaged_3 = False\n",
    "is_damaged_4 = True\n",
    "is_damaged_5 = False\n",
    "is_damaged_6 = False\n",
    "conf_score = 0.39"
   ]
  },
  {
   "cell_type": "code",
   "execution_count": 23,
   "id": "5dc4175e",
   "metadata": {},
   "outputs": [
    {
     "name": "stdout",
     "output_type": "stream",
     "text": [
      "run:update_event()\n",
      "run:select_event()\n",
      "Success:select_event()\n",
      "Success:update_event()\n"
     ]
    }
   ],
   "source": [
    "update_event(path_original, is_damaged, conf_score)"
   ]
  },
  {
   "cell_type": "code",
   "execution_count": 16,
   "id": "4e0fe07e",
   "metadata": {},
   "outputs": [],
   "source": [
    "path_original = \"2022-05-31-3-3-1_2022-05-31-3-3-2_2022-05-31-3-3-3_2022-05-31-3-3-4_2022-05-31-3-3-5_2022-05-31-3-3-6_\"\n",
    "is_damaged_1 = True\n",
    "is_damaged_2 = False\n",
    "is_damaged_3 = False\n",
    "is_damaged_4 = False\n",
    "is_damaged_5 = True\n",
    "is_damaged_6 = True\n",
    "conf_score = 0.41"
   ]
  },
  {
   "cell_type": "code",
   "execution_count": 25,
   "id": "0247e936",
   "metadata": {},
   "outputs": [
    {
     "name": "stdout",
     "output_type": "stream",
     "text": [
      "run:update_event()\n",
      "run:select_event()\n",
      "Success:select_event()\n",
      "Success:update_event()\n"
     ]
    }
   ],
   "source": [
    "update_event(path_original, is_damaged, conf_score)"
   ]
  },
  {
   "cell_type": "code",
   "execution_count": null,
   "id": "fe6e0a84",
   "metadata": {},
   "outputs": [],
   "source": []
  },
  {
   "cell_type": "code",
   "execution_count": null,
   "id": "9f1cc349",
   "metadata": {},
   "outputs": [],
   "source": []
  },
  {
   "cell_type": "markdown",
   "id": "c3f0cae7",
   "metadata": {},
   "source": [
    "# Fn3. Create_Entry"
   ]
  },
  {
   "cell_type": "code",
   "execution_count": 26,
   "id": "1403f3ca",
   "metadata": {},
   "outputs": [
    {
     "data": {
      "text/plain": [
       "'\\npath_original:\\n    Varchar\\n    {created_on}-{user_id}-{car_id}-{1...6}\\n    ex) 2022-05-27-1-1-1_2022-05-27-1-1-2_...\\n    \\nis_inferenced:\\n    Boolean\\n    Whether data was passed through U-Net successfully or not\\n    \\nis_inspect:\\n    Boolean\\n    Whether Administrator inspects the data or not\\n'"
      ]
     },
     "execution_count": 26,
     "metadata": {},
     "output_type": "execute_result"
    }
   ],
   "source": [
    "\"\"\"\n",
    "path_original:\n",
    "    Varchar\n",
    "    {created_on}-{user_id}-{car_id}-{1...6}\n",
    "    ex) 2022-05-27-1-1-1_2022-05-27-1-1-2_...\n",
    "    \n",
    "is_inferenced:\n",
    "    Boolean\n",
    "    Whether data was passed through U-Net successfully or not\n",
    "    \n",
    "is_inspect:\n",
    "    Boolean\n",
    "    Whether Administrator inspects the data or not\n",
    "\"\"\""
   ]
  },
  {
   "cell_type": "code",
   "execution_count": 27,
   "id": "6b7bd31f",
   "metadata": {},
   "outputs": [],
   "source": [
    "def create_entry(path_original, is_inferenced, is_inspected):\n",
    "    print(\"run:create_entry()\")\n",
    "    event_id = select_event(path_original).id\n",
    "    query = sqlalchemy.text(\"INSERT INTO entry (event_id, is_inferenced, path_inference_dent, path_inference_scratch, path_inference_spacing, is_inspected) VALUES ({0}, {1}, {2}, {2}, {2}, {3});\".format(event_id, is_inferenced, \"\\'\" + path_original + \"\\'\", is_inspected))\n",
    "    db = sqlalchemy.create_engine(connection_url)\n",
    "    try:\n",
    "        with db.connect() as conn:\n",
    "            conn.execute(query)\n",
    "    except Exception as e:\n",
    "        print('Error: {}'.format(str(e)))\n",
    "    print('Success:create_entry()')"
   ]
  },
  {
   "cell_type": "code",
   "execution_count": 28,
   "id": "4a32b113",
   "metadata": {},
   "outputs": [],
   "source": [
    "path_original = \"2022-05-30-2-2-1_2022-05-30-2-2-2_2022-05-30-2-2-3_2022-05-30-2-2-4_2022-05-30-2-2-5_2022-05-30-2-2-6_\"\n",
    "is_inferenced = True\n",
    "is_inspected = False"
   ]
  },
  {
   "cell_type": "code",
   "execution_count": 29,
   "id": "a16b11ce",
   "metadata": {},
   "outputs": [
    {
     "name": "stdout",
     "output_type": "stream",
     "text": [
      "run:create_entry()\n",
      "run:select_event()\n",
      "Success:select_event()\n",
      "Success:create_entry()\n"
     ]
    }
   ],
   "source": [
    "create_entry(path_original, is_inferenced, is_inspected)"
   ]
  },
  {
   "cell_type": "code",
   "execution_count": 30,
   "id": "b182b015",
   "metadata": {},
   "outputs": [],
   "source": [
    "path_original = \"2022-05-31-3-3-1_2022-05-31-3-3-2_2022-05-31-3-3-3_2022-05-31-3-3-4_2022-05-31-3-3-5_2022-05-31-3-3-6_\"\n",
    "is_inferenced = True\n",
    "is_inspected = False"
   ]
  },
  {
   "cell_type": "code",
   "execution_count": 31,
   "id": "0fd155f8",
   "metadata": {},
   "outputs": [
    {
     "name": "stdout",
     "output_type": "stream",
     "text": [
      "run:create_entry()\n",
      "run:select_event()\n",
      "Success:select_event()\n",
      "Success:create_entry()\n"
     ]
    }
   ],
   "source": [
    "create_entry(path_original, is_inferenced, is_inspected)"
   ]
  },
  {
   "cell_type": "code",
   "execution_count": null,
   "id": "3f92aacc",
   "metadata": {},
   "outputs": [],
   "source": []
  }
 ],
 "metadata": {
  "kernelspec": {
   "display_name": "Python 3 (ipykernel)",
   "language": "python",
   "name": "python3"
  },
  "language_info": {
   "codemirror_mode": {
    "name": "ipython",
    "version": 3
   },
   "file_extension": ".py",
   "mimetype": "text/x-python",
   "name": "python",
   "nbconvert_exporter": "python",
   "pygments_lexer": "ipython3",
   "version": "3.10.1"
  }
 },
 "nbformat": 4,
 "nbformat_minor": 5
}
